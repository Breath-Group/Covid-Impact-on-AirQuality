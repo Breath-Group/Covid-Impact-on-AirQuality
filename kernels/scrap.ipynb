{
 "cells": [
  {
   "cell_type": "code",
   "execution_count": 1,
   "metadata": {},
   "outputs": [],
   "source": [
    "from requests import get\n",
    "from requests.exceptions import RequestException\n",
    "from contextlib import closing\n",
    "from bs4 import BeautifulSoup\n",
    "import pandas as pd\n",
    "import os, sys\n",
    "\n",
    "import fire\n",
    "\n",
    "import csv\n",
    "import sys\n",
    "import os\n",
    "import json\n",
    "import matplotlib.pyplot as plt\n",
    "import re\n",
    "import string\n",
    "\n",
    "import matplotlib.dates as mdates\n",
    "import seaborn as sns\n",
    "\n",
    "# to view all columns\n",
    "pd.set_option(\"display.max.columns\", None)\n",
    "\n",
    "import tweepy\n",
    "from tweepy.streaming import StreamListener\n",
    "from tweepy import OAuthHandler\n",
    "from tweepy import Stream\n",
    "from tweepy import API\n",
    "from tweepy import Cursor\n",
    "from datetime import datetime, date, time, timedelta\n",
    "import sys\n",
    "\n",
    "\n",
    "import preprocessor as p"
   ]
  },
  {
   "cell_type": "code",
   "execution_count": 11,
   "metadata": {},
   "outputs": [],
   "source": [
    "class Tweets():\n",
    "    \n",
    "    # class variables + tweepy authentication\n",
    "    def __init__(self, intervention_date = '2020-04-01', earliest_date = '2020-01-01'):\n",
    "        self.consumer_key = os.environ.get('consumer_key')\n",
    "        self.consumer_secret = os.environ.get('consumer_secret')\n",
    "        self.access_token = os.environ.get('access_token')\n",
    "        self.access_token_secret = os.environ.get('access_token_secret')\n",
    "        \n",
    "        self.auth = OAuthHandler(self.consumer_key, self.consumer_secret)\n",
    "        self.auth.set_access_token(self.access_token, self.access_token_secret)\n",
    "        self.auth_api = API(self.auth, wait_on_rate_limit=True)\n",
    "        \n",
    "        self.intervention_date = intervention_date\n",
    "        self.start_date = datetime(2019, 6, 1, 0, 0)\n",
    "        self.end_date = datetime(2020, 4, 1, 0, 0)\n",
    "        self.earliest_date = earliest_date\n",
    "        self.keywords = ['Air Pollution', 'Environment', 'Ozone Layer', 'Global Warming', 'Climate Change', 'Greenhouse Gases', 'Trees', 'Carbon',\n",
    "                   'Aerosals', 'Air', 'Save the planet', 'Factories', 'Hygroscopicity', 'Inversion', 'Sulfur', 'AIRS', 'ecosystem', \n",
    "                    'Hydrochlorofluorocarbon', 'hydrocarbon', 'TAC', 'zero air', 'pollutant']\n",
    "\n",
    "    # country id \n",
    "    def get_placeid(self, country):\n",
    "        places = self.auth_api.geo_search(query=country, granularity=\"country\")\n",
    "        place_id = places[0].id\n",
    "        \n",
    "        return place_id\n",
    "    \n",
    "    # get tweets\n",
    "    def get_tweets(self, place_id):\n",
    "\n",
    "        # tweets before covid intervention\n",
    "#         pre_intervention_tweets = tweepy.Cursor(self.auth_api.search , q = self.keywords and (\"place:%s\" % place_id) and (\"since:2019-06-01 until:2020-04-01\"),  since_id = self.intervention_date).items(1000)\n",
    "        pre_intervention_tweets = tweepy.Cursor(self.auth_api.search , q=self.keywords and (\"place:%s\" % place_id),  since_id = self.earliest_date).items(10000)\n",
    "\n",
    "#         tweets = tweepy.Cursor(self.auth_api.search , q = self.keywords and (\"place:%s\" % place_id),  since_id = self.start_date).items(100)\n",
    "#         pre_intervention_tweets = []\n",
    "#         for tweet in tweets:\n",
    "#             if tweet.created_at < self.end_date:\n",
    "#                 pre_intervention_tweets.append(tweet)            \n",
    "                \n",
    "#       tweets post covid intervention \n",
    "        post_intervention_tweets = tweepy.Cursor(self.auth_api.search , q=self.keywords and (\"place:%s\" % place_id),  since_id = self.intervention_date).items(1000)\n",
    "\n",
    "        return pre_intervention_tweets, post_intervention_tweets\n",
    "    \n",
    "    # get tweet attributes ~ save to csv\n",
    "    def get_var(self, country, tweets, period = 'pre_covid'):\n",
    "\n",
    "        alltweets = [] \n",
    "        alltweets.extend(tweets)\n",
    "\n",
    "        outtweets = [[tweet.id_str, tweet.user.screen_name, tweet.created_at, tweet.text, tweet.favorite_count, tweet.retweet_count, tweet.entities, tweet.lang] for tweet in alltweets]\n",
    "\n",
    "        #write to csv  \n",
    "        with open(f'{country}_{period}_tweets.csv', 'w') as f:\n",
    "            writer = csv.writer(f)\n",
    "            writer.writerow([\"id\", \"user\", \"created_at\",\"text\", \"favorites\", \"retweets\", \"entities\", \"language\"])\n",
    "            writer.writerows(outtweets)\n",
    "\n",
    "        pass\n"
   ]
  },
  {
   "cell_type": "code",
   "execution_count": 12,
   "metadata": {},
   "outputs": [
    {
     "data": {
      "text/plain": [
       "{'KE': '17ad6a68301cd28b',\n",
       " 'NG': 'fb151ef38fa2ac0d',\n",
       " 'UG': '939067979a7f3b95',\n",
       " 'ZA': '5e8d90e3eaa45d69'}"
      ]
     },
     "execution_count": 12,
     "metadata": {},
     "output_type": "execute_result"
    }
   ],
   "source": [
    "# instantiate class\n",
    "t = Tweets()\n",
    "\n",
    "# get place ids (in a dict)\n",
    "ids = {}\n",
    "for country in ['KE', 'NG', 'UG', 'ZA']:  #country twitter codes. za is for south africa\n",
    "    placeid = t.get_placeid(country)\n",
    "    ids[country] = placeid\n",
    "    \n",
    "ids  "
   ]
  },
  {
   "cell_type": "markdown",
   "metadata": {},
   "source": [
    "Uncomment your country and run code, might take a while.\n"
   ]
  },
  {
   "cell_type": "code",
   "execution_count": 13,
   "metadata": {},
   "outputs": [],
   "source": [
    "# get tweets \n",
    "KE_pre_intervention_tweets, KE_post_intervention_tweets = t.get_tweets(ids['KE'])\n",
    "# NG_pre_intervention_tweets, NG_post_intervention_tweets = get_tweets(ids['NG'])\n",
    "# UG_pre_intervention_tweets, UG_post_intervention_tweets = get_tweets(ids['UG'])\n",
    "# ZA_pre_intervention_tweets, ZA_post_intervention_tweets = get_tweets(ids['ZA'])"
   ]
  },
  {
   "cell_type": "code",
   "execution_count": 14,
   "metadata": {},
   "outputs": [
    {
     "data": {
      "text/plain": [
       "<tweepy.cursor.ItemIterator at 0x7fe0b16f0310>"
      ]
     },
     "execution_count": 14,
     "metadata": {},
     "output_type": "execute_result"
    }
   ],
   "source": [
    "KE_pre_intervention_tweets"
   ]
  },
  {
   "cell_type": "code",
   "execution_count": 15,
   "metadata": {},
   "outputs": [
    {
     "data": {
      "text/plain": [
       "<tweepy.cursor.ItemIterator at 0x7fe0b16f0410>"
      ]
     },
     "execution_count": 15,
     "metadata": {},
     "output_type": "execute_result"
    }
   ],
   "source": [
    "KE_post_intervention_tweets"
   ]
  },
  {
   "cell_type": "code",
   "execution_count": null,
   "metadata": {},
   "outputs": [],
   "source": []
  },
  {
   "cell_type": "code",
   "execution_count": 16,
   "metadata": {},
   "outputs": [],
   "source": [
    "# t = []\n",
    "# for tweet in KE_pre_intervention_tweets:\n",
    "#     t.append(tweet.created_at)\n",
    "    \n",
    "# t"
   ]
  },
  {
   "cell_type": "code",
   "execution_count": null,
   "metadata": {},
   "outputs": [],
   "source": [
    "# get csv files\n",
    "\n",
    "# pre intervention\n",
    "t.get_var('KE', KE_pre_intervention_tweets, period = 'pre_covid')\n",
    "\n",
    "# post intervention\n",
    "t.get_var('KE', KE_post_intervention_tweets, period = 'post_covid')"
   ]
  },
  {
   "cell_type": "code",
   "execution_count": null,
   "metadata": {},
   "outputs": [],
   "source": []
  }
 ],
 "metadata": {
  "kernelspec": {
   "display_name": "Python 3",
   "language": "python",
   "name": "python3"
  },
  "language_info": {
   "codemirror_mode": {
    "name": "ipython",
    "version": 3
   },
   "file_extension": ".py",
   "mimetype": "text/x-python",
   "name": "python",
   "nbconvert_exporter": "python",
   "pygments_lexer": "ipython3",
   "version": "3.7.4"
  }
 },
 "nbformat": 4,
 "nbformat_minor": 4
}
